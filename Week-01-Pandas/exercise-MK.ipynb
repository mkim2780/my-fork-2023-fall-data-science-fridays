{
 "cells": [
  {
   "cell_type": "markdown",
   "metadata": {},
   "source": [
    "# First print your name in the cell below then save this file. (or something nice about your instructor)"
   ]
  },
  {
   "cell_type": "code",
   "execution_count": 1,
   "metadata": {},
   "outputs": [],
   "source": [
    "# In this cell print your name \n",
    "# Min Ah Kim\n",
    "\n",
    "\n",
    "#steve is goat"
   ]
  },
  {
   "cell_type": "markdown",
   "metadata": {},
   "source": [
    "# Data wrangling with Pandas exercise\n",
    "* For this exercise we will be using the `listings.csv` data file."
   ]
  },
  {
   "cell_type": "code",
   "execution_count": 2,
   "metadata": {},
   "outputs": [],
   "source": [
    "import pandas as pd\n",
    "import numpy as np"
   ]
  },
  {
   "cell_type": "markdown",
   "metadata": {},
   "source": [
    "# Load in the data file using `pd.read_csv()`"
   ]
  },
  {
   "cell_type": "code",
   "execution_count": 3,
   "metadata": {},
   "outputs": [
    {
     "data": {
      "text/html": [
       "<div>\n",
       "<style scoped>\n",
       "    .dataframe tbody tr th:only-of-type {\n",
       "        vertical-align: middle;\n",
       "    }\n",
       "\n",
       "    .dataframe tbody tr th {\n",
       "        vertical-align: top;\n",
       "    }\n",
       "\n",
       "    .dataframe thead th {\n",
       "        text-align: right;\n",
       "    }\n",
       "</style>\n",
       "<table border=\"1\" class=\"dataframe\">\n",
       "  <thead>\n",
       "    <tr style=\"text-align: right;\">\n",
       "      <th></th>\n",
       "      <th>id</th>\n",
       "      <th>name</th>\n",
       "      <th>host_id</th>\n",
       "      <th>host_name</th>\n",
       "      <th>neighbourhood_group</th>\n",
       "      <th>neighbourhood</th>\n",
       "      <th>latitude</th>\n",
       "      <th>longitude</th>\n",
       "      <th>room_type</th>\n",
       "      <th>price</th>\n",
       "      <th>minimum_nights</th>\n",
       "      <th>number_of_reviews</th>\n",
       "      <th>last_review</th>\n",
       "      <th>reviews_per_month</th>\n",
       "      <th>calculated_host_listings_count</th>\n",
       "      <th>availability_365</th>\n",
       "    </tr>\n",
       "  </thead>\n",
       "  <tbody>\n",
       "    <tr>\n",
       "      <th>0</th>\n",
       "      <td>2595</td>\n",
       "      <td>Skylit Midtown Castle</td>\n",
       "      <td>2845</td>\n",
       "      <td>Jennifer</td>\n",
       "      <td>Manhattan</td>\n",
       "      <td>Midtown</td>\n",
       "      <td>40.75362</td>\n",
       "      <td>-73.98377</td>\n",
       "      <td>Entire home/apt</td>\n",
       "      <td>175</td>\n",
       "      <td>3</td>\n",
       "      <td>48</td>\n",
       "      <td>2019-11-04</td>\n",
       "      <td>0.37</td>\n",
       "      <td>2</td>\n",
       "      <td>365</td>\n",
       "    </tr>\n",
       "    <tr>\n",
       "      <th>1</th>\n",
       "      <td>3831</td>\n",
       "      <td>Whole flr w/private bdrm, bath &amp; kitchen(pls r...</td>\n",
       "      <td>4869</td>\n",
       "      <td>LisaRoxanne</td>\n",
       "      <td>Brooklyn</td>\n",
       "      <td>Clinton Hill</td>\n",
       "      <td>40.68514</td>\n",
       "      <td>-73.95976</td>\n",
       "      <td>Entire home/apt</td>\n",
       "      <td>75</td>\n",
       "      <td>1</td>\n",
       "      <td>340</td>\n",
       "      <td>2020-08-01</td>\n",
       "      <td>4.75</td>\n",
       "      <td>1</td>\n",
       "      <td>265</td>\n",
       "    </tr>\n",
       "    <tr>\n",
       "      <th>2</th>\n",
       "      <td>5121</td>\n",
       "      <td>BlissArtsSpace!</td>\n",
       "      <td>7356</td>\n",
       "      <td>Garon</td>\n",
       "      <td>Brooklyn</td>\n",
       "      <td>Bedford-Stuyvesant</td>\n",
       "      <td>40.68688</td>\n",
       "      <td>-73.95596</td>\n",
       "      <td>Private room</td>\n",
       "      <td>60</td>\n",
       "      <td>29</td>\n",
       "      <td>50</td>\n",
       "      <td>2019-12-02</td>\n",
       "      <td>0.37</td>\n",
       "      <td>1</td>\n",
       "      <td>365</td>\n",
       "    </tr>\n",
       "    <tr>\n",
       "      <th>3</th>\n",
       "      <td>5136</td>\n",
       "      <td>Spacious Brooklyn Duplex, Patio + Garden</td>\n",
       "      <td>7378</td>\n",
       "      <td>Rebecca</td>\n",
       "      <td>Brooklyn</td>\n",
       "      <td>Sunset Park</td>\n",
       "      <td>40.66120</td>\n",
       "      <td>-73.99423</td>\n",
       "      <td>Entire home/apt</td>\n",
       "      <td>175</td>\n",
       "      <td>14</td>\n",
       "      <td>1</td>\n",
       "      <td>2014-01-02</td>\n",
       "      <td>0.01</td>\n",
       "      <td>1</td>\n",
       "      <td>295</td>\n",
       "    </tr>\n",
       "    <tr>\n",
       "      <th>4</th>\n",
       "      <td>5178</td>\n",
       "      <td>Large Furnished Room Near B'way</td>\n",
       "      <td>8967</td>\n",
       "      <td>Shunichi</td>\n",
       "      <td>Manhattan</td>\n",
       "      <td>Hell's Kitchen</td>\n",
       "      <td>40.76489</td>\n",
       "      <td>-73.98493</td>\n",
       "      <td>Private room</td>\n",
       "      <td>65</td>\n",
       "      <td>2</td>\n",
       "      <td>473</td>\n",
       "      <td>2020-03-15</td>\n",
       "      <td>3.44</td>\n",
       "      <td>1</td>\n",
       "      <td>340</td>\n",
       "    </tr>\n",
       "  </tbody>\n",
       "</table>\n",
       "</div>"
      ],
      "text/plain": [
       "     id                                               name  host_id  \\\n",
       "0  2595                              Skylit Midtown Castle     2845   \n",
       "1  3831  Whole flr w/private bdrm, bath & kitchen(pls r...     4869   \n",
       "2  5121                                    BlissArtsSpace!     7356   \n",
       "3  5136           Spacious Brooklyn Duplex, Patio + Garden     7378   \n",
       "4  5178                   Large Furnished Room Near B'way　     8967   \n",
       "\n",
       "     host_name neighbourhood_group       neighbourhood  latitude  longitude  \\\n",
       "0     Jennifer           Manhattan             Midtown  40.75362  -73.98377   \n",
       "1  LisaRoxanne            Brooklyn        Clinton Hill  40.68514  -73.95976   \n",
       "2        Garon            Brooklyn  Bedford-Stuyvesant  40.68688  -73.95596   \n",
       "3      Rebecca            Brooklyn         Sunset Park  40.66120  -73.99423   \n",
       "4     Shunichi           Manhattan      Hell's Kitchen  40.76489  -73.98493   \n",
       "\n",
       "         room_type  price  minimum_nights  number_of_reviews last_review  \\\n",
       "0  Entire home/apt    175               3                 48  2019-11-04   \n",
       "1  Entire home/apt     75               1                340  2020-08-01   \n",
       "2     Private room     60              29                 50  2019-12-02   \n",
       "3  Entire home/apt    175              14                  1  2014-01-02   \n",
       "4     Private room     65               2                473  2020-03-15   \n",
       "\n",
       "   reviews_per_month  calculated_host_listings_count  availability_365  \n",
       "0               0.37                               2               365  \n",
       "1               4.75                               1               265  \n",
       "2               0.37                               1               365  \n",
       "3               0.01                               1               295  \n",
       "4               3.44                               1               340  "
      ]
     },
     "execution_count": 3,
     "metadata": {},
     "output_type": "execute_result"
    }
   ],
   "source": [
    "# Load data here\n",
    "df=pd.read_csv(\"./data/listings.csv\")\n",
    "df\n",
    "df.head()"
   ]
  },
  {
   "cell_type": "markdown",
   "metadata": {},
   "source": [
    "## Exercise 2 - Filtering\n",
    "\n",
    "Return the following subsets of the dataframe.\n",
    "\n",
    "1. How many listings are there with a price less than 100? \n",
    "\n",
    "\n",
    "2. Find how many listings there are in just Brooklyn.\n",
    "\n",
    "\n",
    "3. Find how many listings there are in Brooklyn with a price less than 100.\n",
    "\n",
    "\n",
    "4. Using `.isin()` select anyone that has the host name of Michael, David, John, and Daniel.\n",
    "\n",
    "\n",
    "5. Create a new column called `adjusted_price` that has $100 added to every listing in Williamsburg.  The prices for all other listings should be the same as the were before. \n",
    "\n",
    "\n",
    "6. What % of the rooms are private, and what % of the rooms are shared.  \n",
    "    * Hint, use `.value_counts()`\n"
   ]
  },
  {
   "cell_type": "code",
   "execution_count": 4,
   "metadata": {},
   "outputs": [
    {
     "data": {
      "text/plain": [
       "22778"
      ]
     },
     "execution_count": 4,
     "metadata": {},
     "output_type": "execute_result"
    }
   ],
   "source": [
    "# 1. How many listings are there with a price less than 100? \n",
    "#less_than_100 = df[\"price\"] < 100\n",
    "#df[less_than_100]['price'].value_counts()\n",
    "#less_than_100 = df[\"price\"].value_counts()\n",
    "#less_than_100\n",
    "#less_than_100 = df[\"price\"] < 100\n",
    "#less_than_100.value_counts()\n",
    "#less_than_100.sum()\n",
    "#less = df[df[\"price\"]< 100]\n",
    "#less\n",
    "#less_than_100 = less['price'].count()\n",
    "#less_than_100\n",
    "#less_than_100_filter = df['price'] < 100\n",
    "#less_than_100_dollar_df = df[less_than_100_filter]\n",
    "#less_than_100_dollar_prices_column = less_than_100_dollar_df['price']\n",
    "#less_than_100_dollar_prices_count = less_than_100_dollar_prices_column.count()\n",
    "#less_than_100_dollar_prices_count\n",
    "\n",
    "filt = df['price']< 100\n",
    "filt_100 = df[filt]\n",
    "filt_100_price = filt_100['price'].count()\n",
    "filt_100_price\n",
    "\n"
   ]
  },
  {
   "cell_type": "code",
   "execution_count": 5,
   "metadata": {},
   "outputs": [
    {
     "data": {
      "text/plain": [
       "18632"
      ]
     },
     "execution_count": 5,
     "metadata": {},
     "output_type": "execute_result"
    }
   ],
   "source": [
    "# 2. Make a new DataFrame of listings in Brooklyn named `df_bk` \n",
    "# and find how many listings in just Brooklyn.\n",
    "brooklyn = df[\"neighbourhood_group\"] == \"Brooklyn\"\n",
    "brooklyn\n",
    "df_bk = df[brooklyn]\n",
    "df_bk=  df_bk['neighbourhood_group'].count()\n",
    "df_bk\n"
   ]
  },
  {
   "cell_type": "code",
   "execution_count": 6,
   "metadata": {},
   "outputs": [
    {
     "data": {
      "text/plain": [
       "10473"
      ]
     },
     "execution_count": 6,
     "metadata": {},
     "output_type": "execute_result"
    }
   ],
   "source": [
    "# 3. Find how many listings there are in Brooklyn with a price less than 100. #8234\n",
    "#condition_1 = df['neighbourhood_group'] == 'Brooklyn'\n",
    "\n",
    "\n",
    "#condition_2 = df['price'] <100\n",
    "\n",
    "# Select all data that meets both requirments\n",
    "#bk_high = df[less_than_100 & df_bk ]\n",
    "#bk_high.value_counts()\n",
    "#brooklyn_lessthan100 = (df[\"price\"]<100) & (df['neighbourhood_group'] == \"Brooklyn\")\n",
    "#df[brooklyn_lessthan100].count()\n",
    "df[filt & brooklyn]['id'].count()"
   ]
  },
  {
   "cell_type": "code",
   "execution_count": 7,
   "metadata": {},
   "outputs": [
    {
     "data": {
      "text/plain": [
       "874"
      ]
     },
     "execution_count": 7,
     "metadata": {},
     "output_type": "execute_result"
    }
   ],
   "source": [
    "# 4. Using `.isin()` select anyone that has the host name of Michael, David, John, and Daniel.\n",
    "# How many total are there that have those names\n",
    "name = [\"Micheal\", \"David\", \"John\", \"Daniel\"]\n",
    "name_filt = df[\"host_name\"].isin(name)\n",
    "\n",
    "\n",
    "df[name_filt]['name'].count()\n"
   ]
  },
  {
   "cell_type": "code",
   "execution_count": 8,
   "metadata": {},
   "outputs": [
    {
     "data": {
      "text/plain": [
       "0     175\n",
       "1      75\n",
       "2      60\n",
       "3     175\n",
       "4      65\n",
       "5      75\n",
       "6     140\n",
       "7     160\n",
       "8      88\n",
       "9      85\n",
       "10     65\n",
       "11    209\n",
       "12    239\n",
       "13    182\n",
       "14     96\n",
       "Name: adjusted_price, dtype: int64"
      ]
     },
     "execution_count": 8,
     "metadata": {},
     "output_type": "execute_result"
    }
   ],
   "source": [
    "# 5. Create a new column called `adjusted_price` that has $100 added to every listing in Williamsburg.  \n",
    "# The prices for all other listings should be the same as the were before. \n",
    "#will = df['neighbourhood'] == \"Williamsburg\"\n",
    "#df[will]\n",
    "#df['adjusted_price'] =df[will]\n",
    "#df['price'].where(+100)\n",
    "#df['adjusred_price'] = df['neighbourhood_group'] == str('Williamsburg' + 100)\n",
    "\n",
    "# def fn(is_williamsburg, price): return price + \\\n",
    "#     100 if is_williamsburg else price\n",
    "\n",
    "# df['adjusted_price'] = df.apply(\n",
    "#     fn(df['neighbourhood'] == 'Williamsburg', df['price']), axis=1)\n",
    "\n",
    "filter = df['neighbourhood'] == 'Williamsburg'\n",
    "true_state = df['price'] + 100\n",
    "true_state\n",
    "flase_state = df['price']\n",
    "flase_state\n",
    "\n",
    "\n",
    "df['adjusted_price'] = np.where(filter, true_state, flase_state)\n",
    "df['adjusted_price'].head(15)"
   ]
  },
  {
   "cell_type": "code",
   "execution_count": 9,
   "metadata": {},
   "outputs": [
    {
     "data": {
      "text/plain": [
       "2.12134889419047"
      ]
     },
     "execution_count": 9,
     "metadata": {},
     "output_type": "execute_result"
    }
   ],
   "source": [
    "# 6. What % of the rooms are private, and what % of the rooms are shared.  \n",
    "# total/ count(private) = x * 0.01 = %\n",
    "#df_bk = df[\"neighbourhood_group\"] == \"Brooklyn\"\n",
    "#df_bk.value_counts()\n",
    "\n",
    "total = df['room_type'].count() # roomtype = 46527\n",
    "\n",
    "private = df[\"room_type\"] == 'Private room'\n",
    "\n",
    "private_val = df[private]['id'].count() #21144\n",
    "\n",
    "\n",
    "shared = df[\"room_type\"] == \"Shared room\"\n",
    "shared_val = df[shared]['id'].count()\n",
    "shared_val\n",
    "\n",
    "\n",
    "private_per = private_val/total * 100\n",
    "private_per\n",
    "\n",
    "shared_per = shared_val/total * 100\n",
    "shared_per\n",
    "\n",
    "\n"
   ]
  },
  {
   "cell_type": "markdown",
   "metadata": {},
   "source": [
    "# Exercise 3 - Grouping\n",
    "\n",
    "1. Using `groupby`, count how many listings are in each neighbourhood_group.\n",
    "\n",
    "\n",
    "2. Using `groupby`, find the mean price for each of the neighbourhood_groups. \n",
    "\n",
    "\n",
    "3. Using `groupby` and `.agg()`, find the min and max price for each of the neighbourhood_groups. \n",
    "\n",
    "\n",
    "4. Using `groupby`, find the median price for each room type in each neighbourhood_group.\n",
    "\n",
    "\n",
    "5. Using `groupby` and `.agg()`, find the count, min, max, mean, median, and std of the prices for each room type in each neighbourhood_group."
   ]
  },
  {
   "cell_type": "code",
   "execution_count": 10,
   "metadata": {},
   "outputs": [
    {
     "data": {
      "text/plain": [
       "neighbourhood_group\n",
       "Bronx             1183\n",
       "Brooklyn         18632\n",
       "Manhattan        20580\n",
       "Queens            5791\n",
       "Staten Island      341\n",
       "Name: id, dtype: int64"
      ]
     },
     "execution_count": 10,
     "metadata": {},
     "output_type": "execute_result"
    }
   ],
   "source": [
    "# 1. Using `groupby`, count how many listings are in each neighbourhood_group.\n",
    "\n",
    "df.groupby(\"neighbourhood_group\")['id'].count()\n"
   ]
  },
  {
   "cell_type": "code",
   "execution_count": 11,
   "metadata": {},
   "outputs": [
    {
     "data": {
      "text/plain": [
       "neighbourhood_group\n",
       "Bronx             92.751479\n",
       "Brooklyn         120.225258\n",
       "Manhattan        191.880466\n",
       "Queens            99.754965\n",
       "Staten Island    110.947214\n",
       "Name: price, dtype: float64"
      ]
     },
     "execution_count": 11,
     "metadata": {},
     "output_type": "execute_result"
    }
   ],
   "source": [
    "# 2. Using `groupby`, find the mean price for each of the neighbourhood_groups. \n",
    "mean_price = df.groupby('neighbourhood_group')\n",
    "mean_price\n",
    "\n",
    "mean_price['price'].mean()\n"
   ]
  },
  {
   "cell_type": "code",
   "execution_count": 12,
   "metadata": {},
   "outputs": [
    {
     "data": {
      "text/plain": [
       "room_type\n",
       "Entire home/apt    199.395950\n",
       "Hotel room         275.015075\n",
       "Private room        91.453084\n",
       "Shared room         87.063830\n",
       "Name: price, dtype: float64"
      ]
     },
     "execution_count": 12,
     "metadata": {},
     "output_type": "execute_result"
    }
   ],
   "source": [
    "# 2.5. Using `groupby`, find the mean price for each room_type. \n",
    "room = df.groupby('room_type')\n",
    "room\n",
    "room_mean = room['price'].mean()\n",
    "room_mean"
   ]
  },
  {
   "cell_type": "code",
   "execution_count": 13,
   "metadata": {},
   "outputs": [
    {
     "data": {
      "text/html": [
       "<div>\n",
       "<style scoped>\n",
       "    .dataframe tbody tr th:only-of-type {\n",
       "        vertical-align: middle;\n",
       "    }\n",
       "\n",
       "    .dataframe tbody tr th {\n",
       "        vertical-align: top;\n",
       "    }\n",
       "\n",
       "    .dataframe thead th {\n",
       "        text-align: right;\n",
       "    }\n",
       "</style>\n",
       "<table border=\"1\" class=\"dataframe\">\n",
       "  <thead>\n",
       "    <tr style=\"text-align: right;\">\n",
       "      <th></th>\n",
       "      <th>min</th>\n",
       "      <th>max</th>\n",
       "    </tr>\n",
       "    <tr>\n",
       "      <th>neighbourhood_group</th>\n",
       "      <th></th>\n",
       "      <th></th>\n",
       "    </tr>\n",
       "  </thead>\n",
       "  <tbody>\n",
       "    <tr>\n",
       "      <th>Bronx</th>\n",
       "      <td>16</td>\n",
       "      <td>1404</td>\n",
       "    </tr>\n",
       "    <tr>\n",
       "      <th>Brooklyn</th>\n",
       "      <td>0</td>\n",
       "      <td>10000</td>\n",
       "    </tr>\n",
       "    <tr>\n",
       "      <th>Manhattan</th>\n",
       "      <td>0</td>\n",
       "      <td>10000</td>\n",
       "    </tr>\n",
       "    <tr>\n",
       "      <th>Queens</th>\n",
       "      <td>0</td>\n",
       "      <td>10000</td>\n",
       "    </tr>\n",
       "    <tr>\n",
       "      <th>Staten Island</th>\n",
       "      <td>19</td>\n",
       "      <td>1200</td>\n",
       "    </tr>\n",
       "  </tbody>\n",
       "</table>\n",
       "</div>"
      ],
      "text/plain": [
       "                     min    max\n",
       "neighbourhood_group            \n",
       "Bronx                 16   1404\n",
       "Brooklyn               0  10000\n",
       "Manhattan              0  10000\n",
       "Queens                 0  10000\n",
       "Staten Island         19   1200"
      ]
     },
     "execution_count": 13,
     "metadata": {},
     "output_type": "execute_result"
    }
   ],
   "source": [
    "# 3. Using `groupby` and `.agg()`, find the min and max price for each of the neighbourhood_groups. \n",
    "neighbourhood = df.groupby('neighbourhood_group')\n",
    "neighbourhood['price'].agg(['min','max'])\n",
    "\n",
    "\n"
   ]
  },
  {
   "cell_type": "code",
   "execution_count": 14,
   "metadata": {},
   "outputs": [
    {
     "data": {
      "text/plain": [
       "neighbourhood_group  room_type      \n",
       "Bronx                Entire home/apt    138.004819\n",
       "                     Private room        68.419668\n",
       "                     Shared room         66.391304\n",
       "Brooklyn             Entire home/apt    171.587687\n",
       "                     Hotel room         147.300000\n",
       "                     Private room        71.291189\n",
       "                     Shared room         57.870091\n",
       "Manhattan            Entire home/apt    231.335572\n",
       "                     Hotel room         292.515670\n",
       "                     Private room       128.277069\n",
       "                     Shared room        111.735084\n",
       "Queens               Entire home/apt    150.168900\n",
       "                     Hotel room         139.058824\n",
       "                     Private room        69.972564\n",
       "                     Shared room         89.891892\n",
       "Staten Island        Entire home/apt    151.720930\n",
       "                     Private room        70.312883\n",
       "                     Shared room         46.000000\n",
       "Name: price, dtype: float64"
      ]
     },
     "execution_count": 14,
     "metadata": {},
     "output_type": "execute_result"
    }
   ],
   "source": [
    "# 4. Using `groupby`, find the mean price for each room_type in each neighbourhood_group.\n",
    "neighbourhood = df.groupby(['neighbourhood_group','room_type'])\n",
    "neighbourhood['price'].mean()\n",
    "\n"
   ]
  },
  {
   "cell_type": "code",
   "execution_count": 15,
   "metadata": {},
   "outputs": [
    {
     "data": {
      "text/html": [
       "<div>\n",
       "<style scoped>\n",
       "    .dataframe tbody tr th:only-of-type {\n",
       "        vertical-align: middle;\n",
       "    }\n",
       "\n",
       "    .dataframe tbody tr th {\n",
       "        vertical-align: top;\n",
       "    }\n",
       "\n",
       "    .dataframe thead th {\n",
       "        text-align: right;\n",
       "    }\n",
       "</style>\n",
       "<table border=\"1\" class=\"dataframe\">\n",
       "  <thead>\n",
       "    <tr style=\"text-align: right;\">\n",
       "      <th></th>\n",
       "      <th></th>\n",
       "      <th>count</th>\n",
       "      <th>min</th>\n",
       "      <th>max</th>\n",
       "      <th>mean</th>\n",
       "      <th>median</th>\n",
       "      <th>std</th>\n",
       "    </tr>\n",
       "    <tr>\n",
       "      <th>neighbourhood_group</th>\n",
       "      <th>room_type</th>\n",
       "      <th></th>\n",
       "      <th></th>\n",
       "      <th></th>\n",
       "      <th></th>\n",
       "      <th></th>\n",
       "      <th></th>\n",
       "    </tr>\n",
       "  </thead>\n",
       "  <tbody>\n",
       "    <tr>\n",
       "      <th rowspan=\"3\" valign=\"top\">Bronx</th>\n",
       "      <th>Entire home/apt</th>\n",
       "      <td>415</td>\n",
       "      <td>25</td>\n",
       "      <td>1404</td>\n",
       "      <td>138.004819</td>\n",
       "      <td>103.0</td>\n",
       "      <td>126.032106</td>\n",
       "    </tr>\n",
       "    <tr>\n",
       "      <th>Private room</th>\n",
       "      <td>722</td>\n",
       "      <td>16</td>\n",
       "      <td>700</td>\n",
       "      <td>68.419668</td>\n",
       "      <td>55.0</td>\n",
       "      <td>57.337866</td>\n",
       "    </tr>\n",
       "    <tr>\n",
       "      <th>Shared room</th>\n",
       "      <td>46</td>\n",
       "      <td>20</td>\n",
       "      <td>800</td>\n",
       "      <td>66.391304</td>\n",
       "      <td>44.0</td>\n",
       "      <td>114.442703</td>\n",
       "    </tr>\n",
       "    <tr>\n",
       "      <th rowspan=\"4\" valign=\"top\">Brooklyn</th>\n",
       "      <th>Entire home/apt</th>\n",
       "      <td>9112</td>\n",
       "      <td>20</td>\n",
       "      <td>10000</td>\n",
       "      <td>171.587687</td>\n",
       "      <td>135.0</td>\n",
       "      <td>236.732843</td>\n",
       "    </tr>\n",
       "    <tr>\n",
       "      <th>Hotel room</th>\n",
       "      <td>30</td>\n",
       "      <td>0</td>\n",
       "      <td>399</td>\n",
       "      <td>147.300000</td>\n",
       "      <td>129.0</td>\n",
       "      <td>91.153206</td>\n",
       "    </tr>\n",
       "    <tr>\n",
       "      <th>Private room</th>\n",
       "      <td>9159</td>\n",
       "      <td>10</td>\n",
       "      <td>2500</td>\n",
       "      <td>71.291189</td>\n",
       "      <td>60.0</td>\n",
       "      <td>69.023165</td>\n",
       "    </tr>\n",
       "    <tr>\n",
       "      <th>Shared room</th>\n",
       "      <td>331</td>\n",
       "      <td>15</td>\n",
       "      <td>1500</td>\n",
       "      <td>57.870091</td>\n",
       "      <td>36.0</td>\n",
       "      <td>92.217618</td>\n",
       "    </tr>\n",
       "    <tr>\n",
       "      <th rowspan=\"4\" valign=\"top\">Manhattan</th>\n",
       "      <th>Entire home/apt</th>\n",
       "      <td>12209</td>\n",
       "      <td>0</td>\n",
       "      <td>10000</td>\n",
       "      <td>231.335572</td>\n",
       "      <td>165.0</td>\n",
       "      <td>410.306439</td>\n",
       "    </tr>\n",
       "    <tr>\n",
       "      <th>Hotel room</th>\n",
       "      <td>351</td>\n",
       "      <td>0</td>\n",
       "      <td>2211</td>\n",
       "      <td>292.515670</td>\n",
       "      <td>210.0</td>\n",
       "      <td>315.924085</td>\n",
       "    </tr>\n",
       "    <tr>\n",
       "      <th>Private room</th>\n",
       "      <td>7601</td>\n",
       "      <td>10</td>\n",
       "      <td>10000</td>\n",
       "      <td>128.277069</td>\n",
       "      <td>80.0</td>\n",
       "      <td>448.677306</td>\n",
       "    </tr>\n",
       "    <tr>\n",
       "      <th>Shared room</th>\n",
       "      <td>419</td>\n",
       "      <td>10</td>\n",
       "      <td>10000</td>\n",
       "      <td>111.735084</td>\n",
       "      <td>60.0</td>\n",
       "      <td>502.728868</td>\n",
       "    </tr>\n",
       "    <tr>\n",
       "      <th rowspan=\"4\" valign=\"top\">Queens</th>\n",
       "      <th>Entire home/apt</th>\n",
       "      <td>2090</td>\n",
       "      <td>10</td>\n",
       "      <td>10000</td>\n",
       "      <td>150.168900</td>\n",
       "      <td>115.0</td>\n",
       "      <td>252.606739</td>\n",
       "    </tr>\n",
       "    <tr>\n",
       "      <th>Hotel room</th>\n",
       "      <td>17</td>\n",
       "      <td>0</td>\n",
       "      <td>249</td>\n",
       "      <td>139.058824</td>\n",
       "      <td>149.0</td>\n",
       "      <td>50.743806</td>\n",
       "    </tr>\n",
       "    <tr>\n",
       "      <th>Private room</th>\n",
       "      <td>3499</td>\n",
       "      <td>18</td>\n",
       "      <td>9000</td>\n",
       "      <td>69.972564</td>\n",
       "      <td>55.0</td>\n",
       "      <td>163.814468</td>\n",
       "    </tr>\n",
       "    <tr>\n",
       "      <th>Shared room</th>\n",
       "      <td>185</td>\n",
       "      <td>14</td>\n",
       "      <td>3000</td>\n",
       "      <td>89.891892</td>\n",
       "      <td>40.0</td>\n",
       "      <td>275.675158</td>\n",
       "    </tr>\n",
       "    <tr>\n",
       "      <th rowspan=\"3\" valign=\"top\">Staten Island</th>\n",
       "      <th>Entire home/apt</th>\n",
       "      <td>172</td>\n",
       "      <td>39</td>\n",
       "      <td>1200</td>\n",
       "      <td>151.720930</td>\n",
       "      <td>111.0</td>\n",
       "      <td>147.518392</td>\n",
       "    </tr>\n",
       "    <tr>\n",
       "      <th>Private room</th>\n",
       "      <td>163</td>\n",
       "      <td>20</td>\n",
       "      <td>800</td>\n",
       "      <td>70.312883</td>\n",
       "      <td>55.0</td>\n",
       "      <td>70.759593</td>\n",
       "    </tr>\n",
       "    <tr>\n",
       "      <th>Shared room</th>\n",
       "      <td>6</td>\n",
       "      <td>19</td>\n",
       "      <td>82</td>\n",
       "      <td>46.000000</td>\n",
       "      <td>38.0</td>\n",
       "      <td>28.446441</td>\n",
       "    </tr>\n",
       "  </tbody>\n",
       "</table>\n",
       "</div>"
      ],
      "text/plain": [
       "                                     count  min    max        mean  median  \\\n",
       "neighbourhood_group room_type                                                \n",
       "Bronx               Entire home/apt    415   25   1404  138.004819   103.0   \n",
       "                    Private room       722   16    700   68.419668    55.0   \n",
       "                    Shared room         46   20    800   66.391304    44.0   \n",
       "Brooklyn            Entire home/apt   9112   20  10000  171.587687   135.0   \n",
       "                    Hotel room          30    0    399  147.300000   129.0   \n",
       "                    Private room      9159   10   2500   71.291189    60.0   \n",
       "                    Shared room        331   15   1500   57.870091    36.0   \n",
       "Manhattan           Entire home/apt  12209    0  10000  231.335572   165.0   \n",
       "                    Hotel room         351    0   2211  292.515670   210.0   \n",
       "                    Private room      7601   10  10000  128.277069    80.0   \n",
       "                    Shared room        419   10  10000  111.735084    60.0   \n",
       "Queens              Entire home/apt   2090   10  10000  150.168900   115.0   \n",
       "                    Hotel room          17    0    249  139.058824   149.0   \n",
       "                    Private room      3499   18   9000   69.972564    55.0   \n",
       "                    Shared room        185   14   3000   89.891892    40.0   \n",
       "Staten Island       Entire home/apt    172   39   1200  151.720930   111.0   \n",
       "                    Private room       163   20    800   70.312883    55.0   \n",
       "                    Shared room          6   19     82   46.000000    38.0   \n",
       "\n",
       "                                            std  \n",
       "neighbourhood_group room_type                    \n",
       "Bronx               Entire home/apt  126.032106  \n",
       "                    Private room      57.337866  \n",
       "                    Shared room      114.442703  \n",
       "Brooklyn            Entire home/apt  236.732843  \n",
       "                    Hotel room        91.153206  \n",
       "                    Private room      69.023165  \n",
       "                    Shared room       92.217618  \n",
       "Manhattan           Entire home/apt  410.306439  \n",
       "                    Hotel room       315.924085  \n",
       "                    Private room     448.677306  \n",
       "                    Shared room      502.728868  \n",
       "Queens              Entire home/apt  252.606739  \n",
       "                    Hotel room        50.743806  \n",
       "                    Private room     163.814468  \n",
       "                    Shared room      275.675158  \n",
       "Staten Island       Entire home/apt  147.518392  \n",
       "                    Private room      70.759593  \n",
       "                    Shared room       28.446441  "
      ]
     },
     "execution_count": 15,
     "metadata": {},
     "output_type": "execute_result"
    }
   ],
   "source": [
    "# 5. Using `groupby` and `.agg()`, find the count, min, max, mean, median, and std of the prices \n",
    "# for each room type in each neighbourhood_group.\n",
    "neighbourhood = df.groupby(['neighbourhood_group','room_type'])\n",
    "neighbourhood['price'].agg(['count', 'min', 'max', 'mean', 'median','std'])\n",
    "\n",
    "\n"
   ]
  },
  {
   "cell_type": "markdown",
   "metadata": {},
   "source": [
    "# Join and file saving.\n",
    "1. Load the `prices.csv` and the `n_listings.csv`\n",
    "\n",
    "\n",
    "2. Do join that keeps all the records for each table.\n",
    "    * Neighbourhood groups should include ['Bronx', 'Brooklyn', 'Manhattan', 'Queens', 'Staten Island',\n",
    "       'LongIsland']\n",
    "       \n",
    "       \n",
    "3. Save your joined csv as `joined.csv`\n",
    "\n",
    "\n",
    "4. Load your saved table and see if it looks the same or different that the DataFrame you used to create it. "
   ]
  },
  {
   "cell_type": "code",
   "execution_count": 16,
   "metadata": {},
   "outputs": [
    {
     "data": {
      "text/plain": [
       "<bound method NDFrame.head of   neighbourhood_group  n_listings\n",
       "0               Bronx        1183\n",
       "1            Brooklyn       18632\n",
       "2           Manhattan       20580\n",
       "3          LongIsland        4121>"
      ]
     },
     "execution_count": 16,
     "metadata": {},
     "output_type": "execute_result"
    }
   ],
   "source": [
    "# 1. Load the `prices.csv` and the `n_listings.csv`\n",
    "prices = pd.read_csv('./data/prices.csv')\n",
    "n_listing = pd.read_csv('./data/n_listings.csv', sep=\";\")\n",
    "\n",
    "n_listing.head"
   ]
  },
  {
   "cell_type": "code",
   "execution_count": 17,
   "metadata": {},
   "outputs": [
    {
     "data": {
      "text/html": [
       "<div>\n",
       "<style scoped>\n",
       "    .dataframe tbody tr th:only-of-type {\n",
       "        vertical-align: middle;\n",
       "    }\n",
       "\n",
       "    .dataframe tbody tr th {\n",
       "        vertical-align: top;\n",
       "    }\n",
       "\n",
       "    .dataframe thead th {\n",
       "        text-align: right;\n",
       "    }\n",
       "</style>\n",
       "<table border=\"1\" class=\"dataframe\">\n",
       "  <thead>\n",
       "    <tr style=\"text-align: right;\">\n",
       "      <th></th>\n",
       "      <th>neighbourhood_group</th>\n",
       "      <th>n_listings</th>\n",
       "    </tr>\n",
       "  </thead>\n",
       "  <tbody>\n",
       "    <tr>\n",
       "      <th>0</th>\n",
       "      <td>Bronx</td>\n",
       "      <td>1183</td>\n",
       "    </tr>\n",
       "    <tr>\n",
       "      <th>1</th>\n",
       "      <td>Brooklyn</td>\n",
       "      <td>18632</td>\n",
       "    </tr>\n",
       "    <tr>\n",
       "      <th>2</th>\n",
       "      <td>Manhattan</td>\n",
       "      <td>20580</td>\n",
       "    </tr>\n",
       "    <tr>\n",
       "      <th>3</th>\n",
       "      <td>LongIsland</td>\n",
       "      <td>4121</td>\n",
       "    </tr>\n",
       "  </tbody>\n",
       "</table>\n",
       "</div>"
      ],
      "text/plain": [
       "  neighbourhood_group  n_listings\n",
       "0               Bronx        1183\n",
       "1            Brooklyn       18632\n",
       "2           Manhattan       20580\n",
       "3          LongIsland        4121"
      ]
     },
     "execution_count": 17,
     "metadata": {},
     "output_type": "execute_result"
    }
   ],
   "source": [
    "n_listing"
   ]
  },
  {
   "cell_type": "code",
   "execution_count": 18,
   "metadata": {},
   "outputs": [],
   "source": [
    "# 2. Do join that keeps all the records for each table.\n",
    "\n",
    "joined = pd.merge(prices,n_listing, on ='neighbourhood_group',how='outer')\n",
    "joined.to_csv('joined.csv')\n"
   ]
  },
  {
   "cell_type": "markdown",
   "metadata": {},
   "source": [
    "# Extra Credit\n",
    "Every question below this cell is extra credit and optional."
   ]
  },
  {
   "cell_type": "markdown",
   "metadata": {},
   "source": [
    "### 1. (Easy) Explore this new PandasAI Package and tell me what its all about because I've never used it. \n",
    "* https://www.youtube.com/watch?v=5w6eZaoDVVk&ab_channel=CodingIsFun  \n",
    "* See if you can use it on the listings.csv to find out some cool info. or answer some of the questions above. "
   ]
  },
  {
   "cell_type": "markdown",
   "metadata": {},
   "source": [
    "### 2. (Very Easy) Find other cool Panda packages / add ons and show us what they can do well. And how you installed them. "
   ]
  },
  {
   "cell_type": "markdown",
   "metadata": {},
   "source": [
    "### 3. (Medium) Use the grammys.csv data for the next section of questions.\n",
    "\n",
    "1. Who was won Album of the Year in 2016?\n",
    "\n",
    "\n",
    "2. Who won Best Rap Album in 2009?\n",
    "\n",
    "\n",
    "3. How many awards was Kendrick Lamar nomiated for, and how many did he win...?"
   ]
  },
  {
   "cell_type": "code",
   "execution_count": 19,
   "metadata": {},
   "outputs": [
    {
     "data": {
      "text/html": [
       "<div>\n",
       "<style scoped>\n",
       "    .dataframe tbody tr th:only-of-type {\n",
       "        vertical-align: middle;\n",
       "    }\n",
       "\n",
       "    .dataframe tbody tr th {\n",
       "        vertical-align: top;\n",
       "    }\n",
       "\n",
       "    .dataframe thead th {\n",
       "        text-align: right;\n",
       "    }\n",
       "</style>\n",
       "<table border=\"1\" class=\"dataframe\">\n",
       "  <thead>\n",
       "    <tr style=\"text-align: right;\">\n",
       "      <th></th>\n",
       "      <th>year</th>\n",
       "      <th>category</th>\n",
       "      <th>nominee</th>\n",
       "      <th>workers</th>\n",
       "      <th>winner</th>\n",
       "    </tr>\n",
       "  </thead>\n",
       "  <tbody>\n",
       "    <tr>\n",
       "      <th>0</th>\n",
       "      <td>1959</td>\n",
       "      <td>Album of the Year</td>\n",
       "      <td>The Music from Peter Gunn.</td>\n",
       "      <td>Henry Mancini</td>\n",
       "      <td>True</td>\n",
       "    </tr>\n",
       "    <tr>\n",
       "      <th>1</th>\n",
       "      <td>1959</td>\n",
       "      <td>Best Album Cover</td>\n",
       "      <td>Only the Lonely</td>\n",
       "      <td>Frank Sinatra (art director)</td>\n",
       "      <td>True</td>\n",
       "    </tr>\n",
       "    <tr>\n",
       "      <th>2</th>\n",
       "      <td>1959</td>\n",
       "      <td>Best Arrangement</td>\n",
       "      <td>The Music From Peter Gunn</td>\n",
       "      <td>Henry Mancini (artist/arranger)</td>\n",
       "      <td>True</td>\n",
       "    </tr>\n",
       "    <tr>\n",
       "      <th>3</th>\n",
       "      <td>1959</td>\n",
       "      <td>Best Classical Performance - Chamber Music (in...</td>\n",
       "      <td>Beethoven: Quartet 130</td>\n",
       "      <td>The Hollywood String Quartet, Paul Shure (arti...</td>\n",
       "      <td>True</td>\n",
       "    </tr>\n",
       "    <tr>\n",
       "      <th>4</th>\n",
       "      <td>1959</td>\n",
       "      <td>Best Classical Performance - Instrumentalist (...</td>\n",
       "      <td>Segovia Golden Jubilee</td>\n",
       "      <td>Andrés Segovia</td>\n",
       "      <td>True</td>\n",
       "    </tr>\n",
       "  </tbody>\n",
       "</table>\n",
       "</div>"
      ],
      "text/plain": [
       "   year                                           category  \\\n",
       "0  1959                                  Album of the Year   \n",
       "1  1959                                   Best Album Cover   \n",
       "2  1959                                   Best Arrangement   \n",
       "3  1959  Best Classical Performance - Chamber Music (in...   \n",
       "4  1959  Best Classical Performance - Instrumentalist (...   \n",
       "\n",
       "                      nominee  \\\n",
       "0  The Music from Peter Gunn.   \n",
       "1             Only the Lonely   \n",
       "2   The Music From Peter Gunn   \n",
       "3      Beethoven: Quartet 130   \n",
       "4      Segovia Golden Jubilee   \n",
       "\n",
       "                                             workers  winner  \n",
       "0                                      Henry Mancini    True  \n",
       "1                       Frank Sinatra (art director)    True  \n",
       "2                    Henry Mancini (artist/arranger)    True  \n",
       "3  The Hollywood String Quartet, Paul Shure (arti...    True  \n",
       "4                                     Andrés Segovia    True  "
      ]
     },
     "execution_count": 19,
     "metadata": {},
     "output_type": "execute_result"
    }
   ],
   "source": [
    "grammy = pd.read_csv('./data/grammys.csv')\n",
    "grammy.head(5)\n",
    "\n"
   ]
  },
  {
   "cell_type": "code",
   "execution_count": 20,
   "metadata": {},
   "outputs": [
    {
     "data": {
      "text/html": [
       "<div>\n",
       "<style scoped>\n",
       "    .dataframe tbody tr th:only-of-type {\n",
       "        vertical-align: middle;\n",
       "    }\n",
       "\n",
       "    .dataframe tbody tr th {\n",
       "        vertical-align: top;\n",
       "    }\n",
       "\n",
       "    .dataframe thead th {\n",
       "        text-align: right;\n",
       "    }\n",
       "</style>\n",
       "<table border=\"1\" class=\"dataframe\">\n",
       "  <thead>\n",
       "    <tr style=\"text-align: right;\">\n",
       "      <th></th>\n",
       "      <th>year</th>\n",
       "      <th>category</th>\n",
       "      <th>nominee</th>\n",
       "      <th>workers</th>\n",
       "      <th>winner</th>\n",
       "    </tr>\n",
       "  </thead>\n",
       "  <tbody>\n",
       "    <tr>\n",
       "      <th>5505</th>\n",
       "      <td>2016</td>\n",
       "      <td>Album of the Year</td>\n",
       "      <td>1989.</td>\n",
       "      <td>Taylor Swift (artist/producer), Jack Antonoff ...</td>\n",
       "      <td>True</td>\n",
       "    </tr>\n",
       "  </tbody>\n",
       "</table>\n",
       "</div>"
      ],
      "text/plain": [
       "      year           category nominee  \\\n",
       "5505  2016  Album of the Year   1989.   \n",
       "\n",
       "                                                workers  winner  \n",
       "5505  Taylor Swift (artist/producer), Jack Antonoff ...    True  "
      ]
     },
     "execution_count": 20,
     "metadata": {},
     "output_type": "execute_result"
    }
   ],
   "source": [
    "year_16= grammy['year'] == 2016\n",
    "year_2016 = grammy[year_16]\n",
    "\n",
    "category = grammy['category'] == 'Album of the Year'\n",
    "album = grammy[category]\n",
    "\n",
    "filt = grammy[year_16 & category]\n",
    "filt\n",
    "\n",
    "winner = grammy['winner'] == True\n",
    "winner_2016 = grammy[year_16 & category & winner]\n",
    "winner_2016\n",
    "\n",
    "# grammy = grammy[grammy['year'] == 2016]\n",
    "# grammy = grammy[grammy['category'] == 'Album of the Year']\n",
    "# grammy[grammy['winner'] == True]['nominee'].values[0]\n"
   ]
  },
  {
   "cell_type": "code",
   "execution_count": 21,
   "metadata": {},
   "outputs": [
    {
     "data": {
      "text/plain": [
       "4396    Lil' Wayne\n",
       "Name: workers, dtype: object"
      ]
     },
     "execution_count": 21,
     "metadata": {},
     "output_type": "execute_result"
    }
   ],
   "source": [
    "list(grammy['category'].value_counts().index)\n",
    "year_2019 = grammy['year'] == 2009\n",
    "best = grammy['category']== 'Best Rap Album'\n",
    "win = grammy['winner'] == True\n",
    "winner_2009 = grammy[year_2019& best & win]\n",
    "winner_2009['workers']"
   ]
  },
  {
   "cell_type": "code",
   "execution_count": 22,
   "metadata": {},
   "outputs": [
    {
     "data": {
      "text/plain": [
       "4"
      ]
     },
     "execution_count": 22,
     "metadata": {},
     "output_type": "execute_result"
    }
   ],
   "source": [
    "kend = grammy[grammy['workers']=='Kendrick Lamar']\n",
    "kend\n",
    "kend['workers'].count()\n",
    "kendrick = grammy['workers'] == 'Kendrick Lamar'\n",
    "win_kend = grammy['winner'] == True\n",
    "win_kend = grammy[win_kend & kendrick]\n",
    "win_kend['winner'].count()\n"
   ]
  },
  {
   "cell_type": "code",
   "execution_count": 23,
   "metadata": {},
   "outputs": [],
   "source": [
    "#[name for name in  sorted(grammy['workers'].value_counts().index) if name[:3].lower() == \"ken\"]"
   ]
  },
  {
   "cell_type": "markdown",
   "metadata": {},
   "source": [
    "### (Hard) Load the Game Logs for 2022 and add the column names using a dictionary.  \n",
    "* [Link to the data page](https://www.retrosheet.org/gamelogs/)\n",
    "* [Link to the column names](https://procatinator.com/)\n",
    "* haha, gotta find them yourself!"
   ]
  },
  {
   "cell_type": "markdown",
   "metadata": {},
   "source": [
    "### (Extra Hard) Download the files for the past 5 years into a new folder and add them all into one data frame using pandas, then save that new file.\n",
    "* Try to not hard code in the file names. We want to do this programmatically because what if we want to add new/more file names in the future."
   ]
  },
  {
   "cell_type": "code",
   "execution_count": null,
   "metadata": {},
   "outputs": [],
   "source": []
  }
 ],
 "metadata": {
  "kernelspec": {
   "display_name": "Python 3 (ipykernel)",
   "language": "python",
   "name": "python3"
  },
  "language_info": {
   "codemirror_mode": {
    "name": "ipython",
    "version": 3
   },
   "file_extension": ".py",
   "mimetype": "text/x-python",
   "name": "python",
   "nbconvert_exporter": "python",
   "pygments_lexer": "ipython3",
   "version": "3.10.10"
  }
 },
 "nbformat": 4,
 "nbformat_minor": 4
}
